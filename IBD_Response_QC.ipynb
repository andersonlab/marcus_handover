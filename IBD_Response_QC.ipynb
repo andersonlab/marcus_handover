{
 "cells": [
  {
   "cell_type": "code",
   "execution_count": 54,
   "id": "3e312652",
   "metadata": {},
   "outputs": [
    {
     "name": "stdout",
     "output_type": "stream",
     "text": [
      "<cx_Oracle.Cursor on <cx_Oracle.Connection to MOSAIC_USER@(DESCRIPTION=(ADDRESS=(PROTOCOL=TCP)(HOST=sanger-sb-prod.ca4xce6yzabf.eu-west-1.rds.amazonaws.com)(PORT=1521))(CONNECT_DATA=(SERVICE_NAME=MOSAIC)))>>\n"
     ]
    },
    {
     "ename": "NameError",
     "evalue": "name 'df' is not defined",
     "output_type": "error",
     "traceback": [
      "\u001b[0;31m---------------------------------------------------------------------------\u001b[0m",
      "\u001b[0;31mNameError\u001b[0m                                 Traceback (most recent call last)",
      "\u001b[0;32m<ipython-input-54-0913d5510cf8>\u001b[0m in \u001b[0;36m<module>\u001b[0;34m\u001b[0m\n\u001b[1;32m     56\u001b[0m \u001b[0mReviewed_metadata_donors_barcodes\u001b[0m \u001b[0;34m=\u001b[0m \u001b[0mpd\u001b[0m\u001b[0;34m.\u001b[0m\u001b[0mDataFrame\u001b[0m\u001b[0;34m(\u001b[0m\u001b[0mcursor\u001b[0m\u001b[0;34m.\u001b[0m\u001b[0mfetchall\u001b[0m\u001b[0;34m(\u001b[0m\u001b[0;34m)\u001b[0m\u001b[0;34m)\u001b[0m\u001b[0;34m\u001b[0m\u001b[0;34m\u001b[0m\u001b[0m\n\u001b[1;32m     57\u001b[0m \u001b[0;34m\u001b[0m\u001b[0m\n\u001b[0;32m---> 58\u001b[0;31m \u001b[0mdf\u001b[0m\u001b[0;34m.\u001b[0m\u001b[0mto_csv\u001b[0m\u001b[0;34m(\u001b[0m\u001b[0;34m'filename.csv'\u001b[0m\u001b[0;34m,\u001b[0m \u001b[0mindex\u001b[0m\u001b[0;34m=\u001b[0m\u001b[0;32mFalse\u001b[0m\u001b[0;34m)\u001b[0m\u001b[0;34m\u001b[0m\u001b[0;34m\u001b[0m\u001b[0m\n\u001b[0m\u001b[1;32m     59\u001b[0m \u001b[0;34m\u001b[0m\u001b[0m\n\u001b[1;32m     60\u001b[0m \u001b[0;34m\u001b[0m\u001b[0m\n",
      "\u001b[0;31mNameError\u001b[0m: name 'df' is not defined"
     ]
    }
   ],
   "source": [
    "#Testing the Oracle database\n",
    "import imp\n",
    "import cx_Oracle\n",
    "import pandas as pd\n",
    "import numpy as np\n",
    "\n",
    "#Read in Oracle database\n",
    "dsn = (cx_Oracle.makedsn('sanger-sb-prod.ca4xce6yzabf.eu-west-1.rds.amazonaws.com', port = '1521', service_name='MOSAIC'))\n",
    "connection = cx_Oracle.connect(user='MOSAIC_USER', password='*Of7!LW9auUKfooS',dsn=dsn)\n",
    "cursor = connection.cursor()\n",
    "\n",
    "print(cursor)\n",
    "\n",
    "#Grab all the Barcode IDs from the google spreadsheet\n",
    "file_path =  \"/lustre/scratch126/humgen/projects/sc-eqtl-ibd/analysis/marcus_analysis/IBD-R Sample Record - PBMC_Isolation_and_scRNAseq.csv\"\n",
    "data = pd.read_csv(file_path, header=1)\n",
    "\n",
    "data = data.rename(columns={\n",
    "    data.columns[1]: 'Blood_tube_Barcode',\n",
    "    data.columns[2]: 'Latest_date_for_processing_BLOOD_(yyyy-mm-dd)'\n",
    "})\n",
    "\n",
    "data = data.dropna(subset=['Participent_Study_ID'])\n",
    "\n",
    "participant_study_ids = data['Blood_tube_Barcode'].tolist()\n",
    "participant_study_ids_str = ', '.join(participant_study_ids)\n",
    "result_str = '\"' + ','.join([\"'\" + item.strip() + \"'\" for item in participant_study_ids_str.split(\", \")]) + '\"'\n",
    "result_str = '\"' + ','.join(result_str.strip('\"').split(',')[2:]) + '\"'\n",
    "result_str = result_str.replace('\"', '')\n",
    "cursor.execute(f'''\n",
    "    SELECT \n",
    "        A.\"Barcode\",\n",
    "        A.\"Substance ID\",\n",
    "        B.\"SITE\",\n",
    "        E.\"Receipt Temperature\"  -- The Receipt Temperature column\n",
    "    FROM mosaic.container_report A \n",
    "    LEFT JOIN (\n",
    "        SELECT \n",
    "            mosaic.substance_report.\"Name\",\n",
    "            mosaic.substance_report.\"Substance ID\",\n",
    "            mosaic.substance_report.\"Property Value\" AS \"SITE\"\n",
    "        FROM mosaic.substance_report \n",
    "        WHERE mosaic.substance_report.\"Property Name\" LIKE 'Site'\n",
    "    ) B ON B.\"Substance ID\" LIKE A.\"Barcode\" OR B.\"Substance ID\" LIKE A.\"Substance ID\"\n",
    "    LEFT JOIN (  -- Join for \"Receipt Temperature\"\n",
    "        SELECT \n",
    "            mosaic.substance_report.\"Name\",\n",
    "            mosaic.substance_report.\"Substance ID\",\n",
    "            mosaic.substance_report.\"Property Value\" AS \"Receipt Temperature\"\n",
    "        FROM mosaic.substance_report \n",
    "        WHERE mosaic.substance_report.\"Property Name\" LIKE 'Receipt Temperature'\n",
    "    ) E ON E.\"Substance ID\" LIKE A.\"Barcode\" OR E.\"Substance ID\" LIKE A.\"Substance ID\"\n",
    "    WHERE A.\"Barcode\" IN ({result_str})\n",
    "''')\n",
    "\n",
    "Reviewed_metadata_donors_barcodes = pd.DataFrame(cursor.fetchall())"
   ]
  },
  {
   "cell_type": "code",
   "execution_count": 55,
   "id": "ec729ee3",
   "metadata": {},
   "outputs": [],
   "source": [
    "Reviewed_metadata_donors_barcodes.to_csv('temperature_barcoded.csv', index=False)  "
   ]
  }
 ],
 "metadata": {
  "kernelspec": {
   "display_name": "Python 3",
   "language": "python",
   "name": "python3"
  },
  "language_info": {
   "codemirror_mode": {
    "name": "ipython",
    "version": 3
   },
   "file_extension": ".py",
   "mimetype": "text/x-python",
   "name": "python",
   "nbconvert_exporter": "python",
   "pygments_lexer": "ipython3",
   "version": "3.9.10"
  },
  "toc-autonumbering": true,
  "toc-showmarkdowntxt": true,
  "toc-showtags": true,
  "vscode": {
   "interpreter": {
    "hash": "11a1a20e7e5588e2408594c7daf9ada4ee5f13258b122a5e903727886dfbefc0"
   }
  }
 },
 "nbformat": 4,
 "nbformat_minor": 5
}
